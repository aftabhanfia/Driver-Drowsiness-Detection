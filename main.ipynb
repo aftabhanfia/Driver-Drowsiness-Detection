{
 "cells": [
  {
   "cell_type": "code",
   "execution_count": 1,
   "id": "7aa5b8b6",
   "metadata": {
    "scrolled": true
   },
   "outputs": [
    {
     "name": "stdout",
     "output_type": "stream",
     "text": [
      "pygame 2.1.2 (SDL 2.0.18, Python 3.8.8)\n",
      "Hello from the pygame community. https://www.pygame.org/contribute.html\n"
     ]
    }
   ],
   "source": [
    "import cv2\n",
    "import tensorflow as tf\n",
    "from tensorflow.keras.models import load_model\n",
    "import numpy as np\n",
    "import time\n",
    "from pygame import mixer"
   ]
  },
  {
   "cell_type": "code",
   "execution_count": 2,
   "id": "ad06aff8",
   "metadata": {
    "scrolled": true
   },
   "outputs": [],
   "source": [
    "face_cascade = cv2.CascadeClassifier('C:\\\\Users\\\\AftabAlam\\\\AppData\\\\Local\\\\Programs\\\\Python\\\\Python310\\\\Lib\\\\site-packages\\\\cv2\\\\data\\\\haarcascade_frontalface_default.xml')\n",
    "eye_cascade = cv2.CascadeClassifier('C:\\\\Users\\\\AftabAlam\\\\AppData\\\\Local\\\\Programs\\\\Python\\\\Python310\\\\Lib\\\\site-packages\\\\cv2\\\\data\\\\haarcascade_eye.xml')\n",
    "model = load_model(r'D:\\dataset\\model')"
   ]
  },
  {
   "cell_type": "code",
   "execution_count": null,
   "id": "2abb0f09",
   "metadata": {},
   "outputs": [],
   "source": [
    "mixer.init()\n",
    "sound= mixer.Sound(r'D:\\dataset\\alarm\\alarm.wav')\n",
    "cap = cv2.VideoCapture(0)\n",
    "Score = 0\n",
    "while True:\n",
    "    ret, frame = cap.read()\n",
    "    height,width = frame.shape[0:2]\n",
    "    gray = cv2.cvtColor(frame, cv2.COLOR_BGR2GRAY)\n",
    "    faces= face_cascade.detectMultiScale(gray, scaleFactor= 1.2, minNeighbors=3)\n",
    "    eyes= eye_cascade.detectMultiScale(gray, scaleFactor= 1.1, minNeighbors=1)\n",
    "    \n",
    "    cv2.rectangle(frame, (0,height-50),(200,height),(0,0,0),thickness=cv2.FILLED)\n",
    "    \n",
    "    for (x,y,w,h) in faces:\n",
    "        cv2.rectangle(frame,pt1=(x,y),pt2=(x+w,y+h), color= (255,0,0), thickness=3 )\n",
    "        \n",
    "    for (ex,ey,ew,eh) in eyes:\n",
    "        cv2.rectangle(frame,pt1=(ex,ey),pt2=(ex+ew,ey+eh), color= (255,0,0), thickness=3 )\n",
    "        \n",
    "        # preprocessing steps\n",
    "        eye= frame[ey:ey+eh,ex:ex+ew]\n",
    "        eye= cv2.resize(eye,(80,80))\n",
    "        eye= eye/255\n",
    "        eye= eye.reshape(80,80,3)\n",
    "        eye= np.expand_dims(eye,axis=0)\n",
    "        # preprocessing is done now model prediction\n",
    "        prediction = model.predict(eye)\n",
    "        \n",
    "        # if eyes are closed\n",
    "        if prediction[0][0]>0.40:\n",
    "            cv2.putText(frame,'Close',(10,height-20),fontFace=cv2.FONT_HERSHEY_COMPLEX_SMALL,fontScale=1,color=(255,255,255),\n",
    "                       thickness=1,lineType=cv2.LINE_AA)\n",
    "            cv2.putText(frame,'Score'+str(Score),(100,height-20),fontFace=cv2.FONT_HERSHEY_COMPLEX_SMALL,fontScale=1,color=(255,255,255),\n",
    "                       thickness=1,lineType=cv2.LINE_AA)\n",
    "            Score = Score+1\n",
    "            if (Score>60):\n",
    "                try:\n",
    "                    sound.play()\n",
    "                    time.sleep(50)\n",
    "                    pygame.mixer.sound.set_volume(0)\n",
    "                    \n",
    "                except:\n",
    "                    pass\n",
    "            \n",
    "        # if eyes are open\n",
    "        elif prediction[0][1]>0.20:\n",
    "            cv2.putText(frame,'Open',(10,height-20),fontFace=cv2.FONT_HERSHEY_COMPLEX_SMALL,fontScale=1,color=(255,255,255),\n",
    "                       thickness=1,lineType=cv2.LINE_4)      \n",
    "            cv2.putText(frame,'Score'+str(Score),(100,height-20),fontFace=cv2.FONT_HERSHEY_COMPLEX_SMALL,fontScale=1,color=(255,255,255),\n",
    "                       thickness=1,lineType=cv2.LINE_4)\n",
    "            Score = Score-1\n",
    "            if (Score<0):\n",
    "                Score=0\n",
    "            \n",
    "        \n",
    "    cv2.imshow('Drowsiness Detection',frame)\n",
    "    if cv2.waitKey(33) & 0xFF==ord('q'):\n",
    "        break\n",
    "        \n",
    "cap.release()\n",
    "cv2.destroyAllWindows()"
   ]
  },
  {
   "cell_type": "code",
   "execution_count": null,
   "id": "8b445a9b",
   "metadata": {},
   "outputs": [],
   "source": []
  },
  {
   "cell_type": "code",
   "execution_count": null,
   "id": "0cfaf032",
   "metadata": {},
   "outputs": [],
   "source": []
  },
  {
   "cell_type": "code",
   "execution_count": null,
   "id": "7247cef6",
   "metadata": {},
   "outputs": [],
   "source": []
  }
 ],
 "metadata": {
  "kernelspec": {
   "display_name": "Python 3",
   "language": "python",
   "name": "python3"
  },
  "language_info": {
   "codemirror_mode": {
    "name": "ipython",
    "version": 3
   },
   "file_extension": ".py",
   "mimetype": "text/x-python",
   "name": "python",
   "nbconvert_exporter": "python",
   "pygments_lexer": "ipython3",
   "version": "3.8.8"
  }
 },
 "nbformat": 4,
 "nbformat_minor": 5
}
